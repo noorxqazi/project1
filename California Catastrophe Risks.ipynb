{
 "cells": [
  {
   "cell_type": "markdown",
   "id": "79ff4fd5",
   "metadata": {},
   "source": [
    "# Questions\n",
    "## Major Question: Which property should we sell?\n",
    "### 1. What are the catastrophe risks/natural disasters? \n",
    "### 2. How does incident type affect ih_program_declared? \n",
    "### 3. What effect does declaration type have on choosing which property to sell?"
   ]
  },
  {
   "cell_type": "code",
   "execution_count": 11,
   "id": "29147368",
   "metadata": {},
   "outputs": [],
   "source": [
    "# Import Dependencies\n",
    "import pandas as pd\n",
    "import numpy as np\n",
    "import matplotlib.pyplot as plt"
   ]
  },
  {
   "cell_type": "code",
   "execution_count": 12,
   "id": "934e070a",
   "metadata": {},
   "outputs": [],
   "source": [
    "# Read and open both csv files\n",
    "big_file = 'us_disaster_declarations.csv'\n",
    "small_file = 'us_disasters_m5.csv'\n",
    "big_df = pd.read_csv(big_file)"
   ]
  },
  {
   "cell_type": "code",
   "execution_count": 32,
   "id": "3030aca6",
   "metadata": {},
   "outputs": [
    {
     "data": {
      "text/html": [
       "<div>\n",
       "<style scoped>\n",
       "    .dataframe tbody tr th:only-of-type {\n",
       "        vertical-align: middle;\n",
       "    }\n",
       "\n",
       "    .dataframe tbody tr th {\n",
       "        vertical-align: top;\n",
       "    }\n",
       "\n",
       "    .dataframe thead th {\n",
       "        text-align: right;\n",
       "    }\n",
       "</style>\n",
       "<table border=\"1\" class=\"dataframe\">\n",
       "  <thead>\n",
       "    <tr style=\"text-align: right;\">\n",
       "      <th></th>\n",
       "      <th>state</th>\n",
       "      <th>declaration_type</th>\n",
       "      <th>declaration_date</th>\n",
       "      <th>fy_declared</th>\n",
       "      <th>incident_type</th>\n",
       "      <th>declaration_title</th>\n",
       "      <th>ih_program_declared</th>\n",
       "      <th>designated_area</th>\n",
       "    </tr>\n",
       "  </thead>\n",
       "  <tbody>\n",
       "    <tr>\n",
       "      <th>212</th>\n",
       "      <td>CA</td>\n",
       "      <td>DR</td>\n",
       "      <td>1964-12-24T00:00:00Z</td>\n",
       "      <td>1965</td>\n",
       "      <td>Flood</td>\n",
       "      <td>Heavy Rains &amp; Flooding</td>\n",
       "      <td>0</td>\n",
       "      <td>El Dorado (County)</td>\n",
       "    </tr>\n",
       "    <tr>\n",
       "      <th>723</th>\n",
       "      <td>CA</td>\n",
       "      <td>DR</td>\n",
       "      <td>1965-12-07T00:00:00Z</td>\n",
       "      <td>1966</td>\n",
       "      <td>Flood</td>\n",
       "      <td>Heavy Rains &amp; Flooding</td>\n",
       "      <td>0</td>\n",
       "      <td>San Diego (County)</td>\n",
       "    </tr>\n",
       "    <tr>\n",
       "      <th>848</th>\n",
       "      <td>CA</td>\n",
       "      <td>DR</td>\n",
       "      <td>1967-01-02T00:00:00Z</td>\n",
       "      <td>1967</td>\n",
       "      <td>Flood</td>\n",
       "      <td>Severe Storms &amp; Flooding</td>\n",
       "      <td>0</td>\n",
       "      <td>San Diego (County)</td>\n",
       "    </tr>\n",
       "    <tr>\n",
       "      <th>1202</th>\n",
       "      <td>CA</td>\n",
       "      <td>DR</td>\n",
       "      <td>1969-01-26T00:00:00Z</td>\n",
       "      <td>1969</td>\n",
       "      <td>Flood</td>\n",
       "      <td>Severe Storms &amp; Flooding</td>\n",
       "      <td>0</td>\n",
       "      <td>Los Angeles (County)</td>\n",
       "    </tr>\n",
       "    <tr>\n",
       "      <th>1203</th>\n",
       "      <td>CA</td>\n",
       "      <td>DR</td>\n",
       "      <td>1969-01-26T00:00:00Z</td>\n",
       "      <td>1969</td>\n",
       "      <td>Flood</td>\n",
       "      <td>Severe Storms &amp; Flooding</td>\n",
       "      <td>0</td>\n",
       "      <td>El Dorado (County)</td>\n",
       "    </tr>\n",
       "  </tbody>\n",
       "</table>\n",
       "</div>"
      ],
      "text/plain": [
       "     state declaration_type      declaration_date  fy_declared incident_type  \\\n",
       "212     CA               DR  1964-12-24T00:00:00Z         1965         Flood   \n",
       "723     CA               DR  1965-12-07T00:00:00Z         1966         Flood   \n",
       "848     CA               DR  1967-01-02T00:00:00Z         1967         Flood   \n",
       "1202    CA               DR  1969-01-26T00:00:00Z         1969         Flood   \n",
       "1203    CA               DR  1969-01-26T00:00:00Z         1969         Flood   \n",
       "\n",
       "             declaration_title  ih_program_declared       designated_area  \n",
       "212     Heavy Rains & Flooding                    0    El Dorado (County)  \n",
       "723     Heavy Rains & Flooding                    0    San Diego (County)  \n",
       "848   Severe Storms & Flooding                    0    San Diego (County)  \n",
       "1202  Severe Storms & Flooding                    0  Los Angeles (County)  \n",
       "1203  Severe Storms & Flooding                    0    El Dorado (County)  "
      ]
     },
     "execution_count": 32,
     "metadata": {},
     "output_type": "execute_result"
    }
   ],
   "source": [
    "# Clean data\n",
    "# Create table with specific columns\n",
    "big_df = big_df.loc[:,(\"state\", \"declaration_type\", \"declaration_date\", \"fy_declared\",\n",
    "                      \"incident_type\",\"declaration_title\",\"ih_program_declared\",\n",
    "                      \"designated_area\")]\n",
    "\n",
    "# Exclude certain values\n",
    "values = [\"El Dorado (County)\", \"San Diego (County)\", \"Los Angeles (County)\"]\n",
    "big_df = big_df[big_df[\"designated_area\"].isin(values) == True]\n",
    "\n",
    "big_df.head()"
   ]
  },
  {
   "cell_type": "markdown",
   "id": "7b5c587f",
   "metadata": {},
   "source": [
    "### 1. What are the catastrophe risks/natural disasters? "
   ]
  },
  {
   "cell_type": "code",
   "execution_count": 14,
   "id": "ff423eaf",
   "metadata": {
    "scrolled": true
   },
   "outputs": [
    {
     "data": {
      "text/plain": [
       "array(['Flood', 'Fire', 'Earthquake', 'Drought', 'Coastal Storm',\n",
       "       'Freezing', 'Severe Storm', 'Hurricane', 'Biological'],\n",
       "      dtype=object)"
      ]
     },
     "execution_count": 14,
     "metadata": {},
     "output_type": "execute_result"
    }
   ],
   "source": [
    "# What are the catastrophe risks/natural disasters in California?\n",
    "incidents = big_df[\"incident_type\"].unique()\n",
    "incidents\n",
    "#print(f\"The catastrophe risks in California are {incidents}\")\n"
   ]
  },
  {
   "cell_type": "code",
   "execution_count": 15,
   "id": "70ff9048",
   "metadata": {},
   "outputs": [
    {
     "data": {
      "text/plain": [
       "array(['Flood', 'Drought', 'Severe Storm', 'Fire', 'Hurricane',\n",
       "       'Biological'], dtype=object)"
      ]
     },
     "execution_count": 15,
     "metadata": {},
     "output_type": "execute_result"
    }
   ],
   "source": [
    "# What are the catastrophe risks in El Dorado (South Lake Tahoe location)?\n",
    "\n",
    "ED = big_df.loc[big_df[\"designated_area\"] == \"El Dorado (County)\"]\n",
    "ED_incidents = ED[\"incident_type\"].unique()\n",
    "ED_incidents\n",
    "#ED_incidents = big_df[\"designated_area\"]== ED\n",
    "\n",
    "#print(f\"The catastrophe risks around South Lake Tahoe are {ED_incidents}\")"
   ]
  },
  {
   "cell_type": "code",
   "execution_count": 16,
   "id": "72099e07",
   "metadata": {},
   "outputs": [
    {
     "data": {
      "text/plain": [
       "array(['Flood', 'Fire', 'Coastal Storm', 'Freezing', 'Severe Storm',\n",
       "       'Hurricane', 'Biological'], dtype=object)"
      ]
     },
     "execution_count": 16,
     "metadata": {},
     "output_type": "execute_result"
    }
   ],
   "source": [
    "# What are the catastrophe risks in San Diego (San Diego location)?\n",
    "SD = big_df.loc[big_df[\"designated_area\"] == \"San Diego (County)\"]\n",
    "SD_incidents = SD[\"incident_type\"].unique()\n",
    "#SD_incidents = SD[\"designated_area\"].unique()\n",
    "SD_incidents\n",
    "\n",
    "#print(f\"The catastrophe risks around San Diego are {SD_incidents}\")"
   ]
  },
  {
   "cell_type": "code",
   "execution_count": 17,
   "id": "21973a75",
   "metadata": {},
   "outputs": [
    {
     "data": {
      "text/plain": [
       "array(['Flood', 'Fire', 'Earthquake', 'Coastal Storm', 'Freezing',\n",
       "       'Severe Storm', 'Hurricane', 'Biological'], dtype=object)"
      ]
     },
     "execution_count": 17,
     "metadata": {},
     "output_type": "execute_result"
    }
   ],
   "source": [
    "# What are the catastrophe risks in Los Angeles (Los Angeles location)?\n",
    "LA = big_df.loc[big_df[\"designated_area\"] == \"Los Angeles (County)\"]\n",
    "LA_incidents = LA[\"incident_type\"].unique()\n",
    "LA_incidents\n",
    "\n",
    "#print(f\"The catastrophe risks around Los Angeles are {LA_incidents}\")"
   ]
  },
  {
   "cell_type": "code",
   "execution_count": 18,
   "id": "87882b9c",
   "metadata": {},
   "outputs": [
    {
     "data": {
      "image/png": "[encoded data removed]",
      "text/plain": [
       "<Figure size 640x480 with 1 Axes>"
      ]
     },
     "metadata": {},
     "output_type": "display_data"
    }
   ],
   "source": [
    "# Stacked Bar Chart showing ED, SD, LA most common incidents\n",
    "# (Fire, Flood, Severe Storm)\n",
    "# Want to put the numbers in the chart***\n",
    "\n",
    "x = [\"Fire\", \"Flood\", \"Severe Storm\"]\n",
    "ed_y = np.array([7, 6, 7])\n",
    "sd_y = np.array([28, 10, 5])\n",
    "la_y = np.array([54, 8, 6])\n",
    "\n",
    "# plot the bars\n",
    "ed_plot = plt.bar(x, ed_y, color = \"blue\")\n",
    "sd_plot = plt.bar(x, sd_y, color = \"orange\", bottom = ed_y)\n",
    "la_plot = plt.bar(x, la_y, color = \"red\", bottom = ed_y+sd_y)\n",
    "\n",
    "plt.title(\"Natural Distasters Occurences by Location\")\n",
    "plt.xlabel(\"Top 3 Natural Distasters\")\n",
    "plt.ylabel(\"Occurences\")\n",
    "plt.legend((ed_plot, sd_plot, la_plot), (\"South Lake Tahoe\", \"San Diego\",\n",
    "                                        \"Los Angeles\"))\n",
    "\n",
    "\n",
    "\n",
    "# formatting chart\n",
    "plt.ylim(0, 100)\n",
    "\n",
    "plt.savefig(\"Images/DisasterOccurences.png\")\n",
    "plt.show()"
   ]
  },
  {
   "cell_type": "code",
   "execution_count": 19,
   "id": "90d976c6",
   "metadata": {
    "scrolled": true
   },
   "outputs": [
    {
     "data": {
      "text/plain": [
       "Fire             89\n",
       "Flood            24\n",
       "Severe Storm     18\n",
       "Biological        6\n",
       "Freezing          4\n",
       "Earthquake        3\n",
       "Hurricane         3\n",
       "Coastal Storm     2\n",
       "Drought           1\n",
       "Name: incident_type, dtype: int64"
      ]
     },
     "execution_count": 19,
     "metadata": {},
     "output_type": "execute_result"
    }
   ],
   "source": [
    "incident_counts = big_df[\"incident_type\"].value_counts()\n",
    "incident_counts"
   ]
  },
  {
   "cell_type": "code",
   "execution_count": 20,
   "id": "24b99be2",
   "metadata": {},
   "outputs": [
    {
     "data": {
      "text/plain": [
       "Severe Storm    7\n",
       "Fire            7\n",
       "Flood           6\n",
       "Biological      2\n",
       "Drought         1\n",
       "Hurricane       1\n",
       "Name: incident_type, dtype: int64"
      ]
     },
     "execution_count": 20,
     "metadata": {},
     "output_type": "execute_result"
    }
   ],
   "source": [
    "# Which occurs more?\n",
    "ED_incidents_counts = ED[\"incident_type\"].value_counts()\n",
    "ED_incidents_counts"
   ]
  },
  {
   "cell_type": "code",
   "execution_count": 21,
   "id": "00c0ff16",
   "metadata": {},
   "outputs": [
    {
     "data": {
      "text/plain": [
       "Fire             28\n",
       "Flood            10\n",
       "Severe Storm      5\n",
       "Freezing          2\n",
       "Biological        2\n",
       "Coastal Storm     1\n",
       "Hurricane         1\n",
       "Name: incident_type, dtype: int64"
      ]
     },
     "execution_count": 21,
     "metadata": {},
     "output_type": "execute_result"
    }
   ],
   "source": [
    "# Which occurs more?\n",
    "SD_incidents_counts = SD[\"incident_type\"].value_counts()\n",
    "SD_incidents_counts"
   ]
  },
  {
   "cell_type": "code",
   "execution_count": 22,
   "id": "10e48b70",
   "metadata": {},
   "outputs": [
    {
     "data": {
      "text/plain": [
       "Fire             54\n",
       "Flood             8\n",
       "Severe Storm      6\n",
       "Earthquake        3\n",
       "Freezing          2\n",
       "Biological        2\n",
       "Coastal Storm     1\n",
       "Hurricane         1\n",
       "Name: incident_type, dtype: int64"
      ]
     },
     "execution_count": 22,
     "metadata": {},
     "output_type": "execute_result"
    }
   ],
   "source": [
    "# Which occurs more?\n",
    "LA_incidents_counts = LA[\"incident_type\"].value_counts()\n",
    "LA_incidents_counts"
   ]
  },
  {
   "cell_type": "code",
   "execution_count": 34,
   "id": "589a0518",
   "metadata": {},
   "outputs": [
    {
     "data": {
      "text/html": [
       "<div>\n",
       "<style scoped>\n",
       "    .dataframe tbody tr th:only-of-type {\n",
       "        vertical-align: middle;\n",
       "    }\n",
       "\n",
       "    .dataframe tbody tr th {\n",
       "        vertical-align: top;\n",
       "    }\n",
       "\n",
       "    .dataframe thead th {\n",
       "        text-align: right;\n",
       "    }\n",
       "</style>\n",
       "<table border=\"1\" class=\"dataframe\">\n",
       "  <thead>\n",
       "    <tr style=\"text-align: right;\">\n",
       "      <th></th>\n",
       "      <th>state</th>\n",
       "      <th>declaration_type</th>\n",
       "      <th>declaration_date</th>\n",
       "      <th>fy_declared</th>\n",
       "      <th>incident_type</th>\n",
       "      <th>declaration_title</th>\n",
       "      <th>ih_program_declared</th>\n",
       "      <th>designated_area</th>\n",
       "    </tr>\n",
       "  </thead>\n",
       "  <tbody>\n",
       "    <tr>\n",
       "      <th>24425</th>\n",
       "      <td>CA</td>\n",
       "      <td>DR</td>\n",
       "      <td>2003-10-27T00:00:00Z</td>\n",
       "      <td>2004</td>\n",
       "      <td>Fire</td>\n",
       "      <td>Wildfires, Flooding, Mudflow And Debris Flow D...</td>\n",
       "      <td>1</td>\n",
       "      <td>Los Angeles (County)</td>\n",
       "    </tr>\n",
       "    <tr>\n",
       "      <th>24426</th>\n",
       "      <td>CA</td>\n",
       "      <td>DR</td>\n",
       "      <td>2003-10-27T00:00:00Z</td>\n",
       "      <td>2004</td>\n",
       "      <td>Fire</td>\n",
       "      <td>Wildfires, Flooding, Mudflow And Debris Flow D...</td>\n",
       "      <td>1</td>\n",
       "      <td>San Diego (County)</td>\n",
       "    </tr>\n",
       "    <tr>\n",
       "      <th>26568</th>\n",
       "      <td>CA</td>\n",
       "      <td>DR</td>\n",
       "      <td>2005-02-04T00:00:00Z</td>\n",
       "      <td>2005</td>\n",
       "      <td>Severe Storm</td>\n",
       "      <td>Severe Storms, Flooding, Debris Flows, And Mud...</td>\n",
       "      <td>1</td>\n",
       "      <td>Los Angeles (County)</td>\n",
       "    </tr>\n",
       "    <tr>\n",
       "      <th>26571</th>\n",
       "      <td>CA</td>\n",
       "      <td>DR</td>\n",
       "      <td>2005-02-04T00:00:00Z</td>\n",
       "      <td>2005</td>\n",
       "      <td>Severe Storm</td>\n",
       "      <td>Severe Storms, Flooding, Debris Flows, And Mud...</td>\n",
       "      <td>1</td>\n",
       "      <td>San Diego (County)</td>\n",
       "    </tr>\n",
       "    <tr>\n",
       "      <th>31588</th>\n",
       "      <td>CA</td>\n",
       "      <td>DR</td>\n",
       "      <td>2006-02-03T00:00:00Z</td>\n",
       "      <td>2006</td>\n",
       "      <td>Severe Storm</td>\n",
       "      <td>Severe Storms, Flooding, Mudslides, And Landsl...</td>\n",
       "      <td>1</td>\n",
       "      <td>El Dorado (County)</td>\n",
       "    </tr>\n",
       "  </tbody>\n",
       "</table>\n",
       "</div>"
      ],
      "text/plain": [
       "      state declaration_type      declaration_date  fy_declared incident_type  \\\n",
       "24425    CA               DR  2003-10-27T00:00:00Z         2004          Fire   \n",
       "24426    CA               DR  2003-10-27T00:00:00Z         2004          Fire   \n",
       "26568    CA               DR  2005-02-04T00:00:00Z         2005  Severe Storm   \n",
       "26571    CA               DR  2005-02-04T00:00:00Z         2005  Severe Storm   \n",
       "31588    CA               DR  2006-02-03T00:00:00Z         2006  Severe Storm   \n",
       "\n",
       "                                       declaration_title  ih_program_declared  \\\n",
       "24425  Wildfires, Flooding, Mudflow And Debris Flow D...                    1   \n",
       "24426  Wildfires, Flooding, Mudflow And Debris Flow D...                    1   \n",
       "26568  Severe Storms, Flooding, Debris Flows, And Mud...                    1   \n",
       "26571  Severe Storms, Flooding, Debris Flows, And Mud...                    1   \n",
       "31588  Severe Storms, Flooding, Mudslides, And Landsl...                    1   \n",
       "\n",
       "            designated_area  \n",
       "24425  Los Angeles (County)  \n",
       "24426    San Diego (County)  \n",
       "26568  Los Angeles (County)  \n",
       "26571    San Diego (County)  \n",
       "31588    El Dorado (County)  "
      ]
     },
     "execution_count": 34,
     "metadata": {},
     "output_type": "execute_result"
    }
   ],
   "source": [
    "# Yes, ih program was declared\n",
    "ih_response = big_df.loc[big_df[\"ih_program_declared\"] == 1]\n",
    "ih_response.head()\n",
    "# Create a pie chart for "
   ]
  },
  {
   "cell_type": "code",
   "execution_count": 24,
   "id": "858a522d",
   "metadata": {},
   "outputs": [
    {
     "data": {
      "text/plain": [
       "Fire            10\n",
       "Severe Storm     3\n",
       "Biological       3\n",
       "Name: incident_type, dtype: int64"
      ]
     },
     "execution_count": 24,
     "metadata": {},
     "output_type": "execute_result"
    }
   ],
   "source": [
    "# For what incident type was the ih program declared the most?\n",
    "incident_ihp_decl = ih_response[\"incident_type\"].value_counts()\n",
    "incident_ihp_decl"
   ]
  },
  {
   "cell_type": "code",
   "execution_count": 25,
   "id": "d72e5016",
   "metadata": {},
   "outputs": [
    {
     "data": {
      "image/png": "[encoded data removed]",
      "text/plain": [
       "<Figure size 640x480 with 1 Axes>"
      ]
     },
     "metadata": {},
     "output_type": "display_data"
    }
   ],
   "source": [
    "# Pie chart for above\n",
    "top_incidents_ih = [\"Fire\", \"Severe Storm\", \"Biological: Covid-19 Pandemic\"]\n",
    "occurences_ih = [10, 3, 3]\n",
    "\n",
    "colors = [\"Red\", \"lightblue\", \"green\"]\n",
    "\n",
    "plt.pie(occurences_ih, labels = top_incidents_ih, colors = colors,\n",
    "       autopct = \"%1.1f%%\")\n",
    "plt.axis(\"equal\")\n",
    "plt.title(\"Natural Distasters Supported by IH Program\")\n",
    "\n",
    "plt.savefig(\"Images/DisasterSupported.png\")\n",
    "plt.show()"
   ]
  },
  {
   "cell_type": "code",
   "execution_count": 26,
   "id": "7c636a56",
   "metadata": {},
   "outputs": [
    {
     "data": {
      "text/plain": [
       "Los Angeles (County)    8\n",
       "San Diego (County)      6\n",
       "El Dorado (County)      2\n",
       "Name: designated_area, dtype: int64"
      ]
     },
     "execution_count": 26,
     "metadata": {},
     "output_type": "execute_result"
    }
   ],
   "source": [
    "# For which designated area was the ih program declared the most?\n",
    "location_ihp_decl = ih_response[\"designated_area\"].value_counts()\n",
    "location_ihp_decl"
   ]
  },
  {
   "cell_type": "code",
   "execution_count": 27,
   "id": "a77b0580",
   "metadata": {},
   "outputs": [
    {
     "data": {
      "image/png": "[encoded data removed]",
      "text/plain": [
       "<Figure size 640x480 with 1 Axes>"
      ]
     },
     "metadata": {},
     "output_type": "display_data"
    }
   ],
   "source": [
    "# Pie chart for above\n",
    "top_area_ih = [\"Los Angeles (County)\", \"San Diego (County)\",\n",
    "               \"El Dorado (County)\"]\n",
    "area_occurences_ih = [8, 6, 2]\n",
    "\n",
    "colors = [\"red\", \"orange\", \"blue\"]\n",
    "\n",
    "plt.pie(area_occurences_ih, labels = top_area_ih, colors = colors,\n",
    "       autopct = \"%1.1f%%\")\n",
    "plt.axis(\"equal\")\n",
    "plt.title(\"IH Program's Support by County\")\n",
    "\n",
    "plt.savefig(\"Images/LocationsSupported.png\")\n",
    "plt.show()"
   ]
  },
  {
   "cell_type": "code",
   "execution_count": 28,
   "id": "5154b6a0",
   "metadata": {},
   "outputs": [
    {
     "data": {
      "text/plain": [
       "0    DR\n",
       "dtype: object"
      ]
     },
     "execution_count": 28,
     "metadata": {},
     "output_type": "execute_result"
    }
   ],
   "source": [
    "# DR (major disaster), EM (emergency management), FM (fire management)\n",
    "# What declaration type occurs the most for each county\n",
    "\n",
    "# El Dorado\n",
    "# Create a data frame only showing results from El Dorado\n",
    "ed_value = [\"El Dorado (County)\"]\n",
    "ED_df = big_df[big_df[\"designated_area\"].isin(ed_value) == True]\n",
    "\n",
    "# Find the declaration type that occurs the most in El Dorado\n",
    "ED_freq_decl_type = ED_df[\"declaration_type\"].mode()\n",
    "ED_freq_decl_type"
   ]
  },
  {
   "cell_type": "code",
   "execution_count": 29,
   "id": "e402865d",
   "metadata": {},
   "outputs": [
    {
     "data": {
      "text/plain": [
       "0    DR\n",
       "dtype: object"
      ]
     },
     "execution_count": 29,
     "metadata": {},
     "output_type": "execute_result"
    }
   ],
   "source": [
    "# DR (major disaster), EM (emergency management), FM (fire management)\n",
    "# What declaration type occurs the most for each county\n",
    "\n",
    "# San Diego\n",
    "# Create a data frame only showing results from San Diego\n",
    "sd_value = [\"San Diego (County)\"]\n",
    "SD_df = big_df[big_df[\"designated_area\"].isin(sd_value) == True]\n",
    "\n",
    "# Find the declaration type that occurs the most in San Diego\n",
    "SD_freq_decl_type = SD_df[\"declaration_type\"].mode()\n",
    "SD_freq_decl_type"
   ]
  },
  {
   "cell_type": "code",
   "execution_count": 30,
   "id": "37eda82d",
   "metadata": {},
   "outputs": [
    {
     "data": {
      "text/plain": [
       "0    FM\n",
       "dtype: object"
      ]
     },
     "execution_count": 30,
     "metadata": {},
     "output_type": "execute_result"
    }
   ],
   "source": [
    "# DR (major disaster), EM (emergency management), FM (fire management)\n",
    "# What declaration type occurs the most for each county\n",
    "\n",
    "# Los Angeles\n",
    "# Create a data frame only showing results from Los Angeles\n",
    "la_value = [\"Los Angeles (County)\"]\n",
    "LA_df = big_df[big_df[\"designated_area\"].isin(la_value) == True]\n",
    "\n",
    "# Find the declaration type that occurs the most in Los Angeles\n",
    "LA_freq_decl_type = LA_df[\"declaration_type\"].mode()\n",
    "LA_freq_decl_type"
   ]
  },
  {
   "cell_type": "code",
   "execution_count": 31,
   "id": "c6d161b2",
   "metadata": {},
   "outputs": [
    {
     "data": {
      "text/plain": [
       "FM    38\n",
       "DR    31\n",
       "EM     8\n",
       "Name: declaration_type, dtype: int64"
      ]
     },
     "execution_count": 31,
     "metadata": {},
     "output_type": "execute_result"
    }
   ],
   "source": [
    "val = [\"FM\"]\n",
    "la_decl_type_df = LA_df[\"declaration_type\"].value_counts()\n",
    "la_decl_type_df"
   ]
  },
  {
   "cell_type": "code",
   "execution_count": null,
   "id": "8a78ceb8",
   "metadata": {},
   "outputs": [],
   "source": []
  }
 ],
 "metadata": {
  "kernelspec": {
   "display_name": "PythonData",
   "language": "python",
   "name": "pythondata"
  },
  "language_info": {
   "codemirror_mode": {
    "name": "ipython",
    "version": 3
   },
   "file_extension": ".py",
   "mimetype": "text/x-python",
   "name": "python",
   "nbconvert_exporter": "python",
   "pygments_lexer": "ipython3",
   "version": "3.7.13"
  }
 },
 "nbformat": 4,
 "nbformat_minor": 5
}
